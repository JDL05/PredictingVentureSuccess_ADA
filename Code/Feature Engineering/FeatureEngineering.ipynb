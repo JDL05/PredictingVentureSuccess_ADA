{
 "cells": [
  {
   "metadata": {},
   "cell_type": "markdown",
   "source": [
    "# Feature Engineering\n",
    "Explanation:"
   ],
   "id": "7917d461468ce96a"
  },
  {
   "metadata": {},
   "cell_type": "markdown",
   "source": "## Import Packages",
   "id": "8d89661898e930c7"
  },
  {
   "metadata": {
    "ExecuteTime": {
     "end_time": "2025-01-01T13:38:10.613834Z",
     "start_time": "2025-01-01T13:38:10.610117Z"
    }
   },
   "cell_type": "code",
   "source": [
    "from importnb import Notebook\n",
    "import pandas as pd\n",
    "import numpy as np"
   ],
   "id": "4bfa78658af2b407",
   "outputs": [],
   "execution_count": 17
  },
  {
   "metadata": {},
   "cell_type": "markdown",
   "source": "## Dataframe import from 'DataPreprocessing'",
   "id": "c66d297d4dfe8590"
  },
  {
   "metadata": {
    "ExecuteTime": {
     "end_time": "2025-01-01T14:54:34.296749Z",
     "start_time": "2025-01-01T14:54:34.082268Z"
    }
   },
   "cell_type": "code",
   "source": [
    "with Notebook():\n",
    "    from DataPreprocessing_Pipeline import companies, funding, investors"
   ],
   "id": "dcbd2b89652d5181",
   "outputs": [],
   "execution_count": 22
  },
  {
   "metadata": {},
   "cell_type": "markdown",
   "source": [
    "## New Features: Companies <> Investment Rounds\n",
    "Explanation:"
   ],
   "id": "71cdae43ffe2a0aa"
  },
  {
   "metadata": {},
   "cell_type": "markdown",
   "source": [
    "### Feature 1: Months Until First Round\n",
    "Number of months between the funding date and the first investment round. Explanation: The table 'all_rounds' has every investment round made during the existence of the companies. We already mapped the respectively funding round to the startup. "
   ],
   "id": "8a5908cd8c1250c"
  },
  {
   "metadata": {
    "ExecuteTime": {
     "end_time": "2025-01-01T14:55:01.430543Z",
     "start_time": "2025-01-01T14:55:01.025441Z"
    }
   },
   "cell_type": "code",
   "source": [
    "def calculate_months_until_first_round(company_id, founded_date):\n",
    "    rounds = funding[funding['Company ID'] == company_id]\n",
    "\n",
    "    if rounds.empty:\n",
    "        return np.nan\n",
    "\n",
    "    first_round_date = rounds['Announced Date'].min()\n",
    "\n",
    "    delta_months = (first_round_date.year - founded_date.year) * 12 + (first_round_date.month - founded_date.month)\n",
    "    return max(delta_months, 0)\n",
    "\n",
    "companies['Months until First Round'] = companies.apply(\n",
    "    lambda row: calculate_months_until_first_round(row['ID'], row['Founded Date']),\n",
    "    axis=1\n",
    ")"
   ],
   "id": "a4a7239219af118",
   "outputs": [],
   "execution_count": 24
  },
  {
   "metadata": {},
   "cell_type": "markdown",
   "source": "### Feature 2: ",
   "id": "bf215a0cc3087afa"
  },
  {
   "metadata": {},
   "cell_type": "code",
   "outputs": [],
   "execution_count": null,
   "source": "",
   "id": "7df6574e5310bc06"
  },
  {
   "metadata": {},
   "cell_type": "markdown",
   "source": [
    "## New Features: Companies <> Investors\n",
    "Explanation:"
   ],
   "id": "aafb7f4e7c118322"
  },
  {
   "metadata": {},
   "cell_type": "markdown",
   "source": "### Feature 1: ",
   "id": "e06c97240687b560"
  },
  {
   "metadata": {},
   "cell_type": "code",
   "outputs": [],
   "execution_count": null,
   "source": "",
   "id": "7f39c592b1235e1e"
  },
  {
   "metadata": {},
   "cell_type": "markdown",
   "source": "## Feature 2: ",
   "id": "53faf2cd29c3f622"
  },
  {
   "metadata": {},
   "cell_type": "code",
   "outputs": [],
   "execution_count": null,
   "source": "",
   "id": "ddab008378e0a978"
  },
  {
   "metadata": {},
   "cell_type": "markdown",
   "source": "",
   "id": "445138582b701aa8"
  },
  {
   "metadata": {},
   "cell_type": "markdown",
   "source": "## New Features: Companies",
   "id": "7df5fd22cef165bd"
  },
  {
   "metadata": {},
   "cell_type": "code",
   "outputs": [],
   "execution_count": null,
   "source": "",
   "id": "fa736c3ef1c3413b"
  }
 ],
 "metadata": {
  "kernelspec": {
   "display_name": "Python 3",
   "language": "python",
   "name": "python3"
  },
  "language_info": {
   "codemirror_mode": {
    "name": "ipython",
    "version": 2
   },
   "file_extension": ".py",
   "mimetype": "text/x-python",
   "name": "python",
   "nbconvert_exporter": "python",
   "pygments_lexer": "ipython2",
   "version": "2.7.6"
  }
 },
 "nbformat": 4,
 "nbformat_minor": 5
}
