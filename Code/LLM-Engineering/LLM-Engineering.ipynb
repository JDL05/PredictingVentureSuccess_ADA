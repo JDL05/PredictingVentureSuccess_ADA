{
 "cells": [
  {
   "metadata": {},
   "cell_type": "markdown",
   "source": "# LLM-Engineering",
   "id": "48f690a87d50707c"
  },
  {
   "metadata": {},
   "cell_type": "markdown",
   "source": "## Data-Import from 'Feature Engineering'\n",
   "id": "fa44d2af0315f7f5"
  },
  {
   "cell_type": "code",
   "execution_count": null,
   "id": "initial_id",
   "metadata": {
    "collapsed": true
   },
   "outputs": [],
   "source": [
    "with Notebook():\n",
    "    from FeatureEngineering import companies"
   ]
  },
  {
   "metadata": {},
   "cell_type": "markdown",
   "source": "## Feature Generation with local LLMs",
   "id": "b82e05686b6bf826"
  },
  {
   "metadata": {},
   "cell_type": "code",
   "outputs": [],
   "execution_count": null,
   "source": [
    "from transformers import TFAutoModelForSequenceClassification, AutoTokenizer\n",
    "from tqdm.notebook import tqdm\n",
    "import tensorflow as tf\n",
    "\n",
    "tqdm.pandas()\n",
    "\n",
    "model_name = \"facebook/bart-large-mnli\"\n",
    "model = TFAutoModelForSequenceClassification.from_pretrained(model_name)\n",
    "tokenizer = AutoTokenizer.from_pretrained(model_name)\n",
    "\n",
    "\n",
    "def is_b2b(description):\n",
    "    premise = description\n",
    "    hypothesis = \"This company provides products, services, or solutions that are specifically designed to meet the needs of other businesses, organizations, or institutions rather than individual consumers. The company’s primary focus is on enabling or supporting the operations, efficiency, or growth of its business clients by offering tailored solutions, bulk transactions, or enterprise-level offerings that are typically not relevant for private consumers or individual end-users.\"\n",
    "    inputs = tokenizer(premise, hypothesis, return_tensors=\"tf\", truncation=True)\n",
    "\n",
    "    outputs = model(**inputs)\n",
    "    probabilities = tf.nn.softmax(outputs.logits, axis=-1)\n",
    "\n",
    "    entailment_score = probabilities[0][2].numpy()\n",
    "    result = 1 if entailment_score > 0.6 else 0\n",
    "\n",
    "    print(f\"Description: {description[:50]}... -> Entailment Score: {entailment_score:.2f} -> B2B: {result}\")\n",
    "    return result\n",
    "\n",
    "\n",
    "companies[\"B2B\"] = companies[\"Description\"].progress_apply(is_b2b)"
   ],
   "id": "c10e8c4241ce1042"
  }
 ],
 "metadata": {
  "kernelspec": {
   "display_name": "Python 3",
   "language": "python",
   "name": "python3"
  },
  "language_info": {
   "codemirror_mode": {
    "name": "ipython",
    "version": 2
   },
   "file_extension": ".py",
   "mimetype": "text/x-python",
   "name": "python",
   "nbconvert_exporter": "python",
   "pygments_lexer": "ipython2",
   "version": "2.7.6"
  }
 },
 "nbformat": 4,
 "nbformat_minor": 5
}
