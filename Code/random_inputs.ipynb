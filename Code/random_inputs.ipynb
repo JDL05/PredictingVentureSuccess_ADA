{
 "cells": [
  {
   "cell_type": "code",
   "execution_count": null,
   "metadata": {},
   "outputs": [],
   "source": [
    "import random\n",
    "import numpy as np\n",
    "import pandas as pd \n",
    "from importnb import Notebook\n",
    "\n",
    "with Notebook():\n",
    "    from FeatureEngineering import companies"
   ]
  },
  {
   "cell_type": "code",
   "execution_count": null,
   "metadata": {},
   "outputs": [],
   "source": [
    "# pairing with random subsets \n",
    "data = companies\n",
    "# Create 'Success' target variable\n",
    "data['Success'] = ((data['Was Acquired'] == 1) | \n",
    "                   (data['IPO'] == 1) | \n",
    "                   (data['HighFunding'] == 1)).astype(int)\n",
    "\n",
    "# write text for success instead of 0/1\n",
    "data['Success'] = data['Success'].replace({0: 'This Startup is no Success', 1: 'Successful Startup'})\n",
    "\n",
    "data['IPO'] = data['IPO'].replace({0: 'No IPO', 1: 'IPO'})\n",
    "data['HighFunding'] = data['HighFunding'].replace({0: 'No High funding', 1: 'High Funding'})\n",
    "data['Was Acquired'] = data['Was Acquired'].replace({0: 'No Acquisition', 1: 'Acquired'})\n",
    "\n",
    "excluded2 = ['Was Acquired', 'IPO', 'HighFunding', 'Success', 'Description', 'LinkedIn', 'Twitter', 'ID', 'Website', \n",
    "             'Project Funding', 'Startup Funding', 'Growth Funding', 'Expansion Funding', 'Exit Funding' 'Company ID', 'Facebook']\n",
    "\n",
    "random_pairs = []\n",
    "num_combinations = 5 \n",
    "\n",
    "# Generate random combinations for each observation\n",
    "for _, row in data.iterrows():\n",
    "    eligible_cols = [col for col in data.columns if col not in excluded2]\n",
    "\n",
    "    for _ in range(num_combinations):\n",
    "        selected = random.sample(eligible_cols, min(len(eligible_cols), 7))\n",
    "        \n",
    "        details = []\n",
    "        for col in selected:\n",
    "            if pd.notna(row[col]):\n",
    "                details.append(f\"{col}: {row[col]}\")\n",
    "        \n",
    "        input_text = \"Company Details: \" + \"; \".join(details) + \". Predict Success\"\n",
    "        input_text = input_text.replace(\"\\n\", \"\")\n",
    "        \n",
    "        output_text = str(row['Success'])\n",
    "        \n",
    "        random_pairs.append({\"input\": input_text, \"output\": output_text})\n",
    "\n",
    "random_pairs\n",
    "\n",
    "# subset a few columns of random_pairs to text_examples with labels text for input and label for output\n",
    "dataset = random_pairs[10:]\n",
    "text_list = random_pairs[1:10]\n",
    "\n",
    "text_list\n"
   ]
  }
 ],
 "metadata": {
  "language_info": {
   "name": "python"
  }
 },
 "nbformat": 4,
 "nbformat_minor": 2
}
